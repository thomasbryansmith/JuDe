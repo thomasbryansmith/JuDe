{
 "cells": [
  {
   "cell_type": "markdown",
   "metadata": {},
   "source": [
    "# Scraping text from Mississippi Appellate Court Opinion PDFs\n",
    "\n",
    "### install pdfplumber"
   ]
  },
  {
   "cell_type": "code",
   "execution_count": 26,
   "metadata": {},
   "outputs": [
    {
     "name": "stdout",
     "output_type": "stream",
     "text": [
      "Requirement already satisfied: pdfplumber in c:\\users\\tom smith\\appdata\\local\\packages\\pythonsoftwarefoundation.python.3.9_qbz5n2kfra8p0\\localcache\\local-packages\\python39\\site-packages (0.11.5)\n",
      "Requirement already satisfied: pypdfium2>=4.18.0 in c:\\users\\tom smith\\appdata\\local\\packages\\pythonsoftwarefoundation.python.3.9_qbz5n2kfra8p0\\localcache\\local-packages\\python39\\site-packages (from pdfplumber) (4.30.1)\n",
      "Requirement already satisfied: Pillow>=9.1 in c:\\users\\tom smith\\appdata\\local\\packages\\pythonsoftwarefoundation.python.3.9_qbz5n2kfra8p0\\localcache\\local-packages\\python39\\site-packages (from pdfplumber) (11.0.0)\n",
      "Requirement already satisfied: pdfminer.six==20231228 in c:\\users\\tom smith\\appdata\\local\\packages\\pythonsoftwarefoundation.python.3.9_qbz5n2kfra8p0\\localcache\\local-packages\\python39\\site-packages (from pdfplumber) (20231228)\n",
      "Requirement already satisfied: cryptography>=36.0.0 in c:\\users\\tom smith\\appdata\\local\\packages\\pythonsoftwarefoundation.python.3.9_qbz5n2kfra8p0\\localcache\\local-packages\\python39\\site-packages (from pdfminer.six==20231228->pdfplumber) (44.0.0)\n",
      "Requirement already satisfied: charset-normalizer>=2.0.0 in c:\\users\\tom smith\\appdata\\local\\packages\\pythonsoftwarefoundation.python.3.9_qbz5n2kfra8p0\\localcache\\local-packages\\python39\\site-packages (from pdfminer.six==20231228->pdfplumber) (3.4.0)\n",
      "Requirement already satisfied: cffi>=1.12 in c:\\users\\tom smith\\appdata\\local\\packages\\pythonsoftwarefoundation.python.3.9_qbz5n2kfra8p0\\localcache\\local-packages\\python39\\site-packages (from cryptography>=36.0.0->pdfminer.six==20231228->pdfplumber) (1.17.1)\n",
      "Requirement already satisfied: pycparser in c:\\users\\tom smith\\appdata\\local\\packages\\pythonsoftwarefoundation.python.3.9_qbz5n2kfra8p0\\localcache\\local-packages\\python39\\site-packages (from cffi>=1.12->cryptography>=36.0.0->pdfminer.six==20231228->pdfplumber) (2.22)\n",
      "Note: you may need to restart the kernel to use updated packages.\n"
     ]
    },
    {
     "name": "stderr",
     "output_type": "stream",
     "text": [
      "WARNING: You are using pip version 22.0.4; however, version 24.3.1 is available.\n",
      "You should consider upgrading via the 'C:\\Users\\Tom Smith\\AppData\\Local\\Microsoft\\WindowsApps\\PythonSoftwareFoundation.Python.3.9_qbz5n2kfra8p0\\python.exe -m pip install --upgrade pip' command.\n"
     ]
    }
   ],
   "source": [
    "pip install pdfplumber"
   ]
  },
  {
   "cell_type": "markdown",
   "metadata": {},
   "source": [
    "### import required packages"
   ]
  },
  {
   "cell_type": "code",
   "execution_count": 27,
   "metadata": {},
   "outputs": [],
   "source": [
    "import pdfplumber\n",
    "import os\n",
    "import re\n",
    "import pandas as pd\n",
    "from itertools import compress\n",
    "import numpy as np\n",
    "from tqdm import tqdm\n",
    "from datetime import datetime"
   ]
  },
  {
   "cell_type": "markdown",
   "metadata": {},
   "source": [
    "### define important objects"
   ]
  },
  {
   "cell_type": "code",
   "execution_count": 28,
   "metadata": {},
   "outputs": [],
   "source": [
    "years =  list(range(1996, 2023+1))\n",
    "\n",
    "# Root directory will need to be set to wherever you stored the court opinions after using the justia_scrape function\n",
    "root_dir = \"C:\\\\Users\\\\Tom Smith\\\\Box\\\\Data\\\\justia_law\\\\court_opinions\\\\\" "
   ]
  },
  {
   "cell_type": "markdown",
   "metadata": {},
   "source": [
    "### extract text from PDF documents\n",
    "- Footnotes are removed.\n",
    "- Page numbers are removed.\n",
    "\n",
    "*Tested on Mississippi appellate court opinions, efficacy may very for other states and courts depending on formatting.*"
   ]
  },
  {
   "cell_type": "code",
   "execution_count": 29,
   "metadata": {},
   "outputs": [],
   "source": [
    "def opinion_parser(court, years, root_dir):\n",
    "    print(\"+++ \" + str(datetime.now()) + \" +++\\n\")\n",
    "    print(\"//OPINIONPDFPARSER\")\n",
    "\n",
    "    for year in years:\n",
    "        print(\"+++ \" + str(year))\n",
    "        docs = []\n",
    "        files = os.listdir(root_dir + str(court) + \"\\\\\" + str(year))\n",
    "        for file in tqdm(files):\n",
    "            text = ''\n",
    "            pages = []\n",
    "            try:\n",
    "                with pdfplumber.open(root_dir + str(court) + \"\\\\\"  + str(year) + \"\\\\\" + str(file)) as pdf:\n",
    "                    for i, page in enumerate(pdf.pages):\n",
    "                        rect_widths = [rect['bottom'] - rect['top'] for rect in page.rects]\n",
    "                        rect_list = list(compress(page.rects, [width < 1 for width in rect_widths]))\n",
    "                        if len(rect_list)>0:\n",
    "                            bb = (page.bbox[0], page.bbox[1], page.bbox[2], rect_list[len(rect_list)-1]['top'])\n",
    "                            page = page.crop(bbox=bb)\n",
    "                            text = text+\"\\n\"+str(page.extract_text())\n",
    "                            pages.append(page)\n",
    "                        elif page.page_number>1:\n",
    "                            text = text+\"\\n\"+str(\"\\n\".join(page.extract_text().split(\"\\n\")[:-1]))\n",
    "                            pages.append(page)\n",
    "                        else:\n",
    "                            text = text+str(page.extract_text())\n",
    "                            pages.append(page)\n",
    "            except:\n",
    "                pass\n",
    "            docs.append((re.sub(\".pdf\", \"\", file).upper(), text))\n",
    "        df = pd.DataFrame(docs, columns = ['id','text'])\n",
    "        df.to_pickle(\".\\\\data\\\\\"+str(year)+\"_\"+str(court)+\".pkl\")"
   ]
  },
  {
   "cell_type": "markdown",
   "metadata": {},
   "source": [
    "### Create list of all courts that have been scraped by the *justia_law* function"
   ]
  },
  {
   "cell_type": "code",
   "execution_count": 30,
   "metadata": {},
   "outputs": [],
   "source": [
    "court_list = os.listdir(root_dir)\n",
    "court_list = [x for x in court_list if bool(re.search('texas', x))]\n",
    "court_list"
   ]
  },
  {
   "cell_type": "markdown",
   "metadata": {},
   "source": [
    "### Sequentially create list of all available years for each court, this will be iterated through by the *opinion_parser* function"
   ]
  },
  {
   "cell_type": "code",
   "execution_count": 32,
   "metadata": {},
   "outputs": [
    {
     "data": {
      "text/plain": [
       "['2001',\n",
       " '2002',\n",
       " '2003',\n",
       " '2004',\n",
       " '2005',\n",
       " '2006',\n",
       " '2007',\n",
       " '2008',\n",
       " '2009',\n",
       " '2010',\n",
       " '2011',\n",
       " '2012',\n",
       " '2013',\n",
       " '2014',\n",
       " '2015',\n",
       " '2016',\n",
       " '2017',\n",
       " '2018',\n",
       " '2019',\n",
       " '2020',\n",
       " '2021',\n",
       " '2022',\n",
       " '2023']"
      ]
     },
     "execution_count": 32,
     "metadata": {},
     "output_type": "execute_result"
    }
   ],
   "source": [
    "os.listdir(root_dir + court_list[0])"
   ]
  },
  {
   "cell_type": "markdown",
   "metadata": {},
   "source": [
    "### Put it all together"
   ]
  },
  {
   "cell_type": "code",
   "execution_count": null,
   "metadata": {},
   "outputs": [],
   "source": [
    "for court in court_list:\n",
    "    opinion_parser(court=court,\n",
    "                   years=os.listdir(root_dir + court),\n",
    "                   root_dir=root_dir)"
   ]
  }
 ],
 "metadata": {
  "kernelspec": {
   "display_name": "Python 3",
   "language": "python",
   "name": "python3"
  },
  "language_info": {
   "codemirror_mode": {
    "name": "ipython",
    "version": 3
   },
   "file_extension": ".py",
   "mimetype": "text/x-python",
   "name": "python",
   "nbconvert_exporter": "python",
   "pygments_lexer": "ipython3",
   "version": "3.9.13"
  },
  "orig_nbformat": 4
 },
 "nbformat": 4,
 "nbformat_minor": 2
}
