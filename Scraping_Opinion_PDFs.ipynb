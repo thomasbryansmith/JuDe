{
 "cells": [
  {
   "cell_type": "markdown",
   "metadata": {},
   "source": [
    "# Scraping text from Mississippi Appellate Court Opinion PDFs\n",
    "\n",
    "## install pdfplumber"
   ]
  },
  {
   "cell_type": "code",
   "execution_count": null,
   "metadata": {},
   "outputs": [],
   "source": [
    "pip install pdfplumber"
   ]
  },
  {
   "cell_type": "markdown",
   "metadata": {},
   "source": [
    "## import required packages"
   ]
  },
  {
   "cell_type": "code",
   "execution_count": null,
   "metadata": {},
   "outputs": [],
   "source": [
    "import pdfplumber\n",
    "import os\n",
    "import re\n",
    "import pandas as pd\n",
    "from itertools import compress\n",
    "import numpy as np\n",
    "from tqdm import tqdm\n",
    "from datetime import datetime"
   ]
  },
  {
   "cell_type": "markdown",
   "metadata": {},
   "source": [
    "## define important objects"
   ]
  },
  {
   "cell_type": "code",
   "execution_count": null,
   "metadata": {},
   "outputs": [],
   "source": [
    "years =  list(range(1996, 2023+1))\n",
    "\n",
    "root_dir = \"..\\\\data\\\\court_opinions\\\\\""
   ]
  },
  {
   "cell_type": "markdown",
   "metadata": {},
   "source": [
    "## extract text from PDF documents\n",
    "- Footnotes are removed.\n",
    "- Page numbers are removed."
   ]
  },
  {
   "cell_type": "code",
   "execution_count": null,
   "metadata": {},
   "outputs": [],
   "source": [
    "def opinion_parser(years, root_dir):\n",
    "    print(\"+++ \" + str(datetime.now()) + \" +++\\n\")\n",
    "    print(\"//OPINIONPDFPARSER\")\n",
    "\n",
    "    for year in years:\n",
    "        print(\"+++ \" + str(year))\n",
    "        docs = []\n",
    "        files = os.listdir(root_dir + str(year))\n",
    "        for file in tqdm(files):\n",
    "            text = ''\n",
    "            pages = []\n",
    "            with pdfplumber.open(root_dir + str(year) + \"\\\\\" + str(file)) as pdf:\n",
    "                for i, page in enumerate(pdf.pages):\n",
    "                    rect_widths = [rect['bottom'] - rect['top'] for rect in page.rects]\n",
    "                    rect_list = list(compress(page.rects, [width < 1 for width in rect_widths]))\n",
    "                    if len(rect_list)>0:\n",
    "                        bb = (page.bbox[0], page.bbox[1], page.bbox[2], rect_list[len(rect_list)-1]['top'])\n",
    "                        page = page.crop(bbox=bb)\n",
    "                        text = text+\"\\n\"+str(page.extract_text())\n",
    "                        pages.append(page)\n",
    "                    elif page.page_number>1:\n",
    "                        text = text+\"\\n\"+str(\"\\n\".join(page.extract_text().split(\"\\n\")[:-1]))\n",
    "                        pages.append(page)\n",
    "                    else:\n",
    "                        text = text+str(page.extract_text())\n",
    "                        pages.append(page)\n",
    "            docs.append((re.sub(\".pdf\", \"\", file).upper(), text))\n",
    "        df = pd.DataFrame(docs, columns = ['id','text'])\n",
    "        df.to_pickle(\"..\\\\data\\\\\"+str(year)+\"_Mississippi_Appellate_Court_Decisions.pkl\")\n",
    "        \n",
    "opinion_parser(years=years, root_dir=root_dir)"
   ]
  }
 ],
 "metadata": {
  "kernelspec": {
   "display_name": "Python 3",
   "language": "python",
   "name": "python3"
  },
  "language_info": {
   "codemirror_mode": {
    "name": "ipython",
    "version": 3
   },
   "file_extension": ".py",
   "mimetype": "text/x-python",
   "name": "python",
   "nbconvert_exporter": "python",
   "pygments_lexer": "ipython3",
   "version": "3.9.13"
  },
  "orig_nbformat": 4
 },
 "nbformat": 4,
 "nbformat_minor": 2
}
